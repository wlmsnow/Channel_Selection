{
 "cells": [
  {
   "cell_type": "markdown",
   "metadata": {},
   "source": [
    "# The testRun() command runs the main test simulation loop"
   ]
  },
  {
   "cell_type": "code",
   "execution_count": 9,
   "metadata": {},
   "outputs": [],
   "source": [
    "from runs import sim\n",
    "from Configuration import setDbgPrint\n",
    "from testTrain import runTest\n",
    "import matplotlib.pyplot as plt\n",
    "import numpy as np"
   ]
  },
  {
   "cell_type": "code",
   "execution_count": 10,
   "metadata": {},
   "outputs": [],
   "source": [
    "def testRun():\n",
    "    statusPeriod = sim['cfg']['run']['statusPeriod']\n",
    "    dbgPrint = setDbgPrint(sim['cfg']['run'].get('dbgPrint'))\n",
    "    #env = Env(log=dbgPrint, statusPeriod= statusPeriod)\n",
    "    run = runTest()\n",
    "\n",
    "    run.run_(cfg=sim['cfg']['run'])\n",
    "    plt.subplot(1,2 ,1 )\n",
    "    N = 100\n",
    "    specHi = 50 + 50 * np.sin(2 * np.pi * np.arange(N) / N)\n",
    "    spec1 = np.array([50] * N)\n",
    "    spec2 = 50 + 50 * np.cos(2 * np.pi * np.arange(N) / N)\n",
    "    plt.plot(np.c_[specHi, spec1, spec2], '.-')\n",
    "    plt.xlabel('Time step')\n",
    "    plt.ylabel('Spectral density')\n",
    "    plt.legend(['channel 1', 'channel 6', 'channel 11'])\n",
    "    plt.title('Sample Time-Varying Spectral Density')\n",
    "    plt.subplot(1, 2, 2)\n",
    "    plt.plot(run.action_history, '.-')\n",
    "    plt.xlabel('Training Step')\n",
    "    plt.ylabel('Algorithm selected channel')\n",
    "    plt.grid(True)\n",
    "    plt.show()"
   ]
  },
  {
   "cell_type": "code",
   "execution_count": null,
   "metadata": {},
   "outputs": [],
   "source": []
  },
  {
   "cell_type": "code",
   "execution_count": null,
   "metadata": {},
   "outputs": [],
   "source": []
  }
 ],
 "metadata": {
  "kernelspec": {
   "display_name": "Python 3",
   "language": "python",
   "name": "python3"
  },
  "language_info": {
   "codemirror_mode": {
    "name": "ipython",
    "version": 3
   },
   "file_extension": ".py",
   "mimetype": "text/x-python",
   "name": "python",
   "nbconvert_exporter": "python",
   "pygments_lexer": "ipython3",
   "version": "3.6.1"
  }
 },
 "nbformat": 4,
 "nbformat_minor": 2
}
