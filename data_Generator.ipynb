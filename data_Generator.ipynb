{
 "cells": [
  {
   "cell_type": "markdown",
   "metadata": {},
   "source": [
    "# Run this file to generate data"
   ]
  },
  {
   "cell_type": "code",
   "execution_count": 1,
   "metadata": {},
   "outputs": [],
   "source": [
    "import csv\n",
    "import random\n",
    "import numpy as np\n",
    "import  pandas as pd\n",
    "from sklearn import preprocessing\n",
    "from runs import sim"
   ]
  },
  {
   "cell_type": "code",
   "execution_count": 2,
   "metadata": {},
   "outputs": [],
   "source": [
    "def data():\n",
    "    RSSI_1 = random.randint(-100, 0)\n",
    "    RSSI_2 = random.randint(-100, 0)\n",
    "    tx_power = random.choice(tx_power_list)\n",
    "    spectral_density = random.uniform(0, 100)\n",
    "    return [RSSI_1,RSSI_2,tx_power,spectral_density]"
   ]
  },
  {
   "cell_type": "code",
   "execution_count": 3,
   "metadata": {},
   "outputs": [],
   "source": [
    "def data_Generator():\n",
    "    data = pd.read_csv(\"data.csv\")\n",
    "    list = data.values.tolist()\n",
    "\n",
    "    min_max_scaler = preprocessing.MinMaxScaler()\n",
    "\n",
    "    data_normal = min_max_scaler.fit_transform(list)\n",
    "\n",
    "\n",
    "\n",
    "\n",
    "    return data_normal"
   ]
  },
  {
   "cell_type": "code",
   "execution_count": 4,
   "metadata": {},
   "outputs": [],
   "source": [
    "def generator():\n",
    "    fileName = 'Data.csv'  # \n",
    "    time = 0\n",
    "    maxtime = sim['cfg']['run']['maxTime']#Generate enough data\n",
    "    tx_power_list = [20, 24, 27, 30]\n",
    "    N = 100\n",
    "    with open('data.csv', 'w', newline='') as csvfile:\n",
    "        writer = csv.writer(csvfile)\n",
    "        writer.writerow(['spectral_density'])\n",
    "        while time < maxtime:\n",
    "            i = time % 100\n",
    "            spectral_density= 50 + 50 * np.sin(2*np.pi* i / N)\n",
    "            writer.writerow([ spectral_density])\n",
    "            spectral_density = 50.0\n",
    "            writer.writerow([spectral_density])\n",
    "            spectral_density = 50 + 50 * np.cos(2*np.pi*i / N)\n",
    "            writer.writerow([spectral_density])\n",
    "            time +=1\n"
   ]
  }
 ],
 "metadata": {
  "kernelspec": {
   "display_name": "Python 3",
   "language": "python",
   "name": "python3"
  },
  "language_info": {
   "codemirror_mode": {
    "name": "ipython",
    "version": 3
   },
   "file_extension": ".py",
   "mimetype": "text/x-python",
   "name": "python",
   "nbconvert_exporter": "python",
   "pygments_lexer": "ipython3",
   "version": "3.6.1"
  }
 },
 "nbformat": 4,
 "nbformat_minor": 1
}
